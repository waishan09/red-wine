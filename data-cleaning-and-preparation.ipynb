{
 "cells": [
  {
   "cell_type": "markdown",
   "id": "d56bd23e",
   "metadata": {},
   "source": [
    "## Data preparation and cleaning"
   ]
  },
  {
   "cell_type": "markdown",
   "id": "04f3dafa",
   "metadata": {},
   "source": [
    "### Missing values"
   ]
  },
  {
   "cell_type": "code",
   "execution_count": 26,
   "id": "7127050a",
   "metadata": {
    "scrolled": true
   },
   "outputs": [
    {
     "data": {
      "text/plain": [
       "fixed acidity           0\n",
       "volatile acidity        0\n",
       "citric acid             0\n",
       "residual sugar          0\n",
       "chlorides               0\n",
       "free sulfur dioxide     0\n",
       "total sulfur dioxide    0\n",
       "density                 0\n",
       "pH                      0\n",
       "sulphates               0\n",
       "alcohol                 0\n",
       "quality                 0\n",
       "dtype: int64"
      ]
     },
     "execution_count": 26,
     "metadata": {},
     "output_type": "execute_result"
    }
   ],
   "source": [
    "wine.isnull().sum()"
   ]
  },
  {
   "cell_type": "markdown",
   "id": "0597d01a",
   "metadata": {},
   "source": [
    "No missing values to fill"
   ]
  },
  {
   "cell_type": "markdown",
   "id": "ebca1cfe",
   "metadata": {},
   "source": [
    "## Reduce the skewness "
   ]
  },
  {
   "cell_type": "code",
   "execution_count": 27,
   "id": "d5752954",
   "metadata": {},
   "outputs": [],
   "source": [
    "wine['chlorides'] = np.log10(wine['chlorides'])\n",
    "wine['sulphates'] = np.log10(wine['sulphates'])"
   ]
  },
  {
   "cell_type": "code",
   "execution_count": 28,
   "id": "868db3de",
   "metadata": {},
   "outputs": [
    {
     "name": "stdout",
     "output_type": "stream",
     "text": [
      "--------------------\n",
      "Skewness of the data:\n",
      "--------------------\n"
     ]
    },
    {
     "data": {
      "text/plain": [
       "fixed acidity           0.89\n",
       "volatile acidity        0.68\n",
       "citric acid             0.32\n",
       "residual sugar          0.98\n",
       "chlorides               1.80\n",
       "free sulfur dioxide     1.01\n",
       "total sulfur dioxide    1.24\n",
       "density                -0.16\n",
       "pH                      0.22\n",
       "sulphates               0.97\n",
       "alcohol                 0.88\n",
       "quality                 0.24\n",
       "dtype: float64"
      ]
     },
     "execution_count": 28,
     "metadata": {},
     "output_type": "execute_result"
    }
   ],
   "source": [
    "print('--------------------')\n",
    "print('Skewness of the data:')\n",
    "print('--------------------')\n",
    "round(wine.skew(),2)"
   ]
  },
  {
   "cell_type": "markdown",
   "id": "f98c46cb",
   "metadata": {},
   "source": [
    "### Reclassify the quality scores"
   ]
  },
  {
   "cell_type": "code",
   "execution_count": 29,
   "id": "5b4907d5",
   "metadata": {},
   "outputs": [
    {
     "data": {
      "text/html": [
       "<div>\n",
       "<style scoped>\n",
       "    .dataframe tbody tr th:only-of-type {\n",
       "        vertical-align: middle;\n",
       "    }\n",
       "\n",
       "    .dataframe tbody tr th {\n",
       "        vertical-align: top;\n",
       "    }\n",
       "\n",
       "    .dataframe thead th {\n",
       "        text-align: right;\n",
       "    }\n",
       "</style>\n",
       "<table border=\"1\" class=\"dataframe\">\n",
       "  <thead>\n",
       "    <tr style=\"text-align: right;\">\n",
       "      <th></th>\n",
       "      <th>fixed acidity</th>\n",
       "      <th>volatile acidity</th>\n",
       "      <th>citric acid</th>\n",
       "      <th>residual sugar</th>\n",
       "      <th>chlorides</th>\n",
       "      <th>free sulfur dioxide</th>\n",
       "      <th>total sulfur dioxide</th>\n",
       "      <th>density</th>\n",
       "      <th>pH</th>\n",
       "      <th>sulphates</th>\n",
       "      <th>alcohol</th>\n",
       "      <th>quality</th>\n",
       "    </tr>\n",
       "  </thead>\n",
       "  <tbody>\n",
       "    <tr>\n",
       "      <th>0</th>\n",
       "      <td>7.4</td>\n",
       "      <td>0.70</td>\n",
       "      <td>0.00</td>\n",
       "      <td>1.9</td>\n",
       "      <td>-1.119186</td>\n",
       "      <td>11.0</td>\n",
       "      <td>34.0</td>\n",
       "      <td>0.9978</td>\n",
       "      <td>3.51</td>\n",
       "      <td>-0.251812</td>\n",
       "      <td>9.4</td>\n",
       "      <td>0</td>\n",
       "    </tr>\n",
       "    <tr>\n",
       "      <th>1</th>\n",
       "      <td>7.8</td>\n",
       "      <td>0.88</td>\n",
       "      <td>0.00</td>\n",
       "      <td>2.6</td>\n",
       "      <td>-1.008774</td>\n",
       "      <td>25.0</td>\n",
       "      <td>67.0</td>\n",
       "      <td>0.9968</td>\n",
       "      <td>3.20</td>\n",
       "      <td>-0.167491</td>\n",
       "      <td>9.8</td>\n",
       "      <td>0</td>\n",
       "    </tr>\n",
       "    <tr>\n",
       "      <th>2</th>\n",
       "      <td>7.8</td>\n",
       "      <td>0.76</td>\n",
       "      <td>0.04</td>\n",
       "      <td>2.3</td>\n",
       "      <td>-1.036212</td>\n",
       "      <td>15.0</td>\n",
       "      <td>54.0</td>\n",
       "      <td>0.9970</td>\n",
       "      <td>3.26</td>\n",
       "      <td>-0.187087</td>\n",
       "      <td>9.8</td>\n",
       "      <td>0</td>\n",
       "    </tr>\n",
       "    <tr>\n",
       "      <th>3</th>\n",
       "      <td>11.2</td>\n",
       "      <td>0.28</td>\n",
       "      <td>0.56</td>\n",
       "      <td>1.9</td>\n",
       "      <td>-1.124939</td>\n",
       "      <td>17.0</td>\n",
       "      <td>60.0</td>\n",
       "      <td>0.9980</td>\n",
       "      <td>3.16</td>\n",
       "      <td>-0.236572</td>\n",
       "      <td>9.8</td>\n",
       "      <td>1</td>\n",
       "    </tr>\n",
       "    <tr>\n",
       "      <th>4</th>\n",
       "      <td>7.4</td>\n",
       "      <td>0.70</td>\n",
       "      <td>0.00</td>\n",
       "      <td>1.9</td>\n",
       "      <td>-1.119186</td>\n",
       "      <td>11.0</td>\n",
       "      <td>34.0</td>\n",
       "      <td>0.9978</td>\n",
       "      <td>3.51</td>\n",
       "      <td>-0.251812</td>\n",
       "      <td>9.4</td>\n",
       "      <td>0</td>\n",
       "    </tr>\n",
       "  </tbody>\n",
       "</table>\n",
       "</div>"
      ],
      "text/plain": [
       "   fixed acidity  volatile acidity  citric acid  residual sugar  chlorides  \\\n",
       "0            7.4              0.70         0.00             1.9  -1.119186   \n",
       "1            7.8              0.88         0.00             2.6  -1.008774   \n",
       "2            7.8              0.76         0.04             2.3  -1.036212   \n",
       "3           11.2              0.28         0.56             1.9  -1.124939   \n",
       "4            7.4              0.70         0.00             1.9  -1.119186   \n",
       "\n",
       "   free sulfur dioxide  total sulfur dioxide  density    pH  sulphates  \\\n",
       "0                 11.0                  34.0   0.9978  3.51  -0.251812   \n",
       "1                 25.0                  67.0   0.9968  3.20  -0.167491   \n",
       "2                 15.0                  54.0   0.9970  3.26  -0.187087   \n",
       "3                 17.0                  60.0   0.9980  3.16  -0.236572   \n",
       "4                 11.0                  34.0   0.9978  3.51  -0.251812   \n",
       "\n",
       "   alcohol  quality  \n",
       "0      9.4        0  \n",
       "1      9.8        0  \n",
       "2      9.8        0  \n",
       "3      9.8        1  \n",
       "4      9.4        0  "
      ]
     },
     "execution_count": 29,
     "metadata": {},
     "output_type": "execute_result"
    }
   ],
   "source": [
    "def quality_class(x):\n",
    "    if x <= 5:\n",
    "        return 0\n",
    "    else:\n",
    "        return 1\n",
    "    \n",
    "wine['quality'] = wine.quality.apply(quality_class)\n",
    "wine.head()"
   ]
  },
  {
   "cell_type": "code",
   "execution_count": 30,
   "id": "502e6171",
   "metadata": {
    "scrolled": false
   },
   "outputs": [
    {
     "data": {
      "text/plain": [
       "<Figure size 800x800 with 0 Axes>"
      ]
     },
     "execution_count": 30,
     "metadata": {},
     "output_type": "execute_result"
    },
    {
     "data": {
      "text/plain": [
       "([<matplotlib.patches.Wedge at 0x14fa38290>,\n",
       "  <matplotlib.patches.Wedge at 0x14ff8b250>],\n",
       " [Text(-0.6036615452396723, -0.9195611664260573, '1'),\n",
       "  Text(0.6036614591441399, 0.919561222944926, '0')],\n",
       " [Text(-0.32926993376709396, -0.5015788180505767, '53.7%'),\n",
       "  Text(0.3292698868058945, 0.5015788488790506, '46.3%')])"
      ]
     },
     "execution_count": 30,
     "metadata": {},
     "output_type": "execute_result"
    },
    {
     "data": {
      "text/plain": [
       "Text(0.5, 1.0, 'Distribution of Wine Quality')"
      ]
     },
     "execution_count": 30,
     "metadata": {},
     "output_type": "execute_result"
    },
    {
     "data": {
      "image/png": "[encoded data removed]",
      "text/plain": [
       "<Figure size 800x800 with 1 Axes>"
      ]
     },
     "metadata": {},
     "output_type": "display_data"
    }
   ],
   "source": [
    "quality_counts = wine['quality'].value_counts()\n",
    "plt.figure(figsize=(8, 8))  # Set the figure size as desired\n",
    "plt.pie(quality_counts, labels=quality_counts.index, autopct='%1.1f%%', startangle=140)\n",
    "plt.title('Distribution of Wine Quality')\n",
    "plt.show()"
   ]
  },
  {
   "cell_type": "markdown",
   "id": "f08eb6b5",
   "metadata": {},
   "source": [
    "## Data scaling"
   ]
  },
  {
   "cell_type": "code",
   "execution_count": 31,
   "id": "e9327c62",
   "metadata": {},
   "outputs": [],
   "source": [
    "columns = ['fixed acidity', 'volatile acidity', 'citric acid',\n",
    "         'chlorides', 'free sulfur dioxide', 'total sulfur dioxide', \n",
    "         'density', 'pH', 'sulphates', 'alcohol']\n",
    "\n",
    "scaler = MinMaxScaler()\n",
    "wine[columns] = scaler.fit_transform(wine[columns])"
   ]
  }
 ],
 "metadata": {
  "kernelspec": {
   "display_name": "Python 3 (ipykernel)",
   "language": "python",
   "name": "python3"
  },
  "language_info": {
   "codemirror_mode": {
    "name": "ipython",
    "version": 3
   },
   "file_extension": ".py",
   "mimetype": "text/x-python",
   "name": "python",
   "nbconvert_exporter": "python",
   "pygments_lexer": "ipython3",
   "version": "3.11.5"
  }
 },
 "nbformat": 4,
 "nbformat_minor": 5
}
